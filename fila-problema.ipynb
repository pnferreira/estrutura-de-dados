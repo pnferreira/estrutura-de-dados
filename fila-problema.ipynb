{
 "cells": [
  {
   "cell_type": "markdown",
   "id": "664a9559",
   "metadata": {},
   "source": [
    "# Problema com Fila\n",
    "\n",
    "## Sistema de impressão de documentos"
   ]
  },
  {
   "cell_type": "code",
   "execution_count": 35,
   "id": "2c4a7b1b",
   "metadata": {},
   "outputs": [],
   "source": [
    "from collections import deque\n",
    "import time\n",
    "\n",
    "class Impressao:\n",
    "    def __init__(self):\n",
    "        self.fila_pendente = deque()\n",
    "        self.fila_impressora = deque()\n",
    "        \n",
    "    def adicionar_documento(self, documento):\n",
    "        self.fila_pendente.append(documento)\n",
    "        print(f\"{documento['nome']} adicionado a fila pendente\")\n",
    "    \n",
    "    def enviar_para_impressao(self):\n",
    "        if self.fila_pendente:\n",
    "            documento = self.fila_pendente.popleft()\n",
    "            for pagina in range(documento['paginas']):\n",
    "                self.fila_impressora.append(pagina+1)\n",
    "            print(f\"{documento['nome']} adicionado a fila de impressao\")\n",
    "            \n",
    "    def imprimir_documento(self):\n",
    "        if self.fila_impressora:\n",
    "            for _ in range(len(self.fila_impressora)):\n",
    "                pagina = self.fila_impressora.popleft()\n",
    "                time.sleep(1)\n",
    "                print(f\"Imprimindo pagina {pagina}\")\n",
    "                \n",
    "\n"
   ]
  },
  {
   "cell_type": "code",
   "execution_count": 36,
   "id": "fab3b585",
   "metadata": {},
   "outputs": [
    {
     "name": "stdout",
     "output_type": "stream",
     "text": [
      "doc 1 adicionado a fila pendente\n",
      "doc 2 adicionado a fila pendente\n",
      "doc 3 adicionado a fila pendente\n"
     ]
    }
   ],
   "source": [
    "imp = Impressao()\n",
    "\n",
    "imp.adicionar_documento({\"nome\":\"doc 1\", \"paginas\":6})\n",
    "imp.adicionar_documento({\"nome\":\"doc 2\", \"paginas\":3})\n",
    "imp.adicionar_documento({\"nome\":\"doc 3\", \"paginas\":10})"
   ]
  },
  {
   "cell_type": "code",
   "execution_count": 37,
   "id": "23faa2fd",
   "metadata": {},
   "outputs": [
    {
     "name": "stdout",
     "output_type": "stream",
     "text": [
      "deque([{'nome': 'doc 1', 'paginas': 6}, {'nome': 'doc 2', 'paginas': 3}, {'nome': 'doc 3', 'paginas': 10}])\n",
      "deque([])\n"
     ]
    }
   ],
   "source": [
    "print(imp.fila_pendente)\n",
    "print(imp.fila_impressora)"
   ]
  },
  {
   "cell_type": "code",
   "execution_count": 44,
   "id": "f85f84c9",
   "metadata": {},
   "outputs": [
    {
     "name": "stdout",
     "output_type": "stream",
     "text": [
      "doc 3 adicionado a fila de impressao\n",
      "deque([])\n",
      "deque([1, 2, 3, 4, 5, 6, 7, 8, 9, 10])\n"
     ]
    }
   ],
   "source": [
    "imp.enviar_para_impressao()\n",
    "print(imp.fila_pendente)\n",
    "print(imp.fila_impressora)"
   ]
  },
  {
   "cell_type": "code",
   "execution_count": 45,
   "id": "5a6deed5",
   "metadata": {},
   "outputs": [
    {
     "name": "stdout",
     "output_type": "stream",
     "text": [
      "Imprimindo pagina 1\n",
      "Imprimindo pagina 2\n",
      "Imprimindo pagina 3\n",
      "Imprimindo pagina 4\n",
      "Imprimindo pagina 5\n",
      "Imprimindo pagina 6\n",
      "Imprimindo pagina 7\n",
      "Imprimindo pagina 8\n",
      "Imprimindo pagina 9\n",
      "Imprimindo pagina 10\n"
     ]
    }
   ],
   "source": [
    "# Na impressora, realiza a impressão\n",
    "imp.imprimir_documento()"
   ]
  },
  {
   "cell_type": "code",
   "execution_count": 46,
   "id": "2879ef64",
   "metadata": {},
   "outputs": [
    {
     "name": "stdout",
     "output_type": "stream",
     "text": [
      "deque([])\n",
      "deque([])\n"
     ]
    }
   ],
   "source": [
    "print(imp.fila_pendente)\n",
    "print(imp.fila_impressora)"
   ]
  },
  {
   "cell_type": "markdown",
   "id": "007f4709",
   "metadata": {},
   "source": [
    "Github: https://github.com/pnferreira"
   ]
  },
  {
   "cell_type": "code",
   "execution_count": null,
   "id": "90d01d6e",
   "metadata": {},
   "outputs": [],
   "source": []
  }
 ],
 "metadata": {
  "kernelspec": {
   "display_name": "Python 3 (ipykernel)",
   "language": "python",
   "name": "python3"
  },
  "language_info": {
   "codemirror_mode": {
    "name": "ipython",
    "version": 3
   },
   "file_extension": ".py",
   "mimetype": "text/x-python",
   "name": "python",
   "nbconvert_exporter": "python",
   "pygments_lexer": "ipython3",
   "version": "3.11.4"
  }
 },
 "nbformat": 4,
 "nbformat_minor": 5
}
