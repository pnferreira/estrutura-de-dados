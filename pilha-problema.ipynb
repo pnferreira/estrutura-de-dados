{
 "cells": [
  {
   "cell_type": "markdown",
   "id": "2f3ce85c",
   "metadata": {},
   "source": [
    "# Problema com Pilhas\n",
    "\n",
    "## Editor de Texto\n",
    "- ### Ctrl+Z (desfazer) e Ctrl+Y (refazer)"
   ]
  },
  {
   "cell_type": "code",
   "execution_count": null,
   "id": "e082c851",
   "metadata": {},
   "outputs": [],
   "source": []
  },
  {
   "cell_type": "code",
   "execution_count": 22,
   "id": "a8bfbaa7",
   "metadata": {},
   "outputs": [],
   "source": [
    "import matplotlib.pyplot as plt\n",
    "import matplotlib.patches as patches\n",
    "import numpy as np\n",
    "\n",
    "class Pilha:\n",
    "    def __init__(self):\n",
    "        self.pilha = []\n",
    "\n",
    "    def push(self, elemento):\n",
    "        self.pilha.append(elemento)\n",
    "\n",
    "    def pop(self):\n",
    "        if self.is_empty():\n",
    "            print(\"Erro: Pilha está vazia\")\n",
    "        else:\n",
    "            elemento = self.pilha.pop()\n",
    "            return elemento\n",
    "\n",
    "    def top(self):\n",
    "        if self.is_empty():\n",
    "            print(\"Erro: Pilha está vazia\")\n",
    "        else:\n",
    "            return self.pilha[-1]\n",
    "    \n",
    "    def is_empty(self):\n",
    "        return len(self.pilha) <= 0\n",
    "\n",
    "    def plot_pilha(self):\n",
    "        plt.clf()  # Limpa a figura antes de desenhar a nova pilha.\n",
    "        fig, ax = plt.subplots()\n",
    "        ax.set_xlim([0, 1])  # Define o limite do eixo x.\n",
    "        ax.set_ylim([0, max(10, len(self.pilha))])  # Define o limite do eixo y.\n",
    "        ax.axis('off')  # Remove os eixos.\n",
    "        height = 1  # Define a altura fixa.\n",
    "        \n",
    "        # Adiciona cada retângulo (elemento da pilha) ao gráfico.\n",
    "        for i, item in enumerate(self.pilha):\n",
    "            color = 'lightblue' if i != len(self.pilha) - 1 else 'lightcoral'\n",
    "            rect = patches.Rectangle((0.25, i), 0.5, height, linewidth=1, edgecolor='black', facecolor=color)\n",
    "            ax.add_patch(rect)\n",
    "            plt.text(0.5, i + 0.5, item, ha='center', va='center', fontsize=10)\n",
    "        \n",
    "        #plt.show()\n",
    "\n",
    "pilha = Pilha()"
   ]
  },
  {
   "cell_type": "code",
   "execution_count": 23,
   "id": "d93f05c5",
   "metadata": {
    "scrolled": true
   },
   "outputs": [],
   "source": [
    "class EditorTexto:\n",
    "    def __init__(self):\n",
    "        self.pilhaDesfazer = Pilha()\n",
    "        self.pilhaRefazer = Pilha()\n",
    "        \n",
    "    def escrever(self, texto):\n",
    "        self.pilhaDesfazer.push(texto)\n",
    "        self.pilhaRefazer = Pilha()\n",
    "        \n",
    "    def desfazer(self):\n",
    "        if not self.pilhaDesfazer.is_empty():\n",
    "            texto = self.pilhaDesfazer.pop()\n",
    "            self.pilhaRefazer.push(texto)\n",
    "        \n",
    "    def refazer(self):\n",
    "        if not self.pilhaRefazer.is_empty():\n",
    "            texto = self.pilhaRefazer.pop()\n",
    "            self.pilhaDesfazer.push(texto)\n",
    "    \n",
    "    def mostrar_texto(self):\n",
    "        return \" \".join(self.pilhaDesfazer.pilha)\n",
    "        \n",
    "\n"
   ]
  },
  {
   "cell_type": "code",
   "execution_count": 24,
   "id": "063f442c",
   "metadata": {},
   "outputs": [
    {
     "name": "stdout",
     "output_type": "stream",
     "text": [
      "Olá Mundo dsaodosia padkowpkdosa\n"
     ]
    }
   ],
   "source": [
    "editor = EditorTexto()\n",
    "\n",
    "editor.escrever(\"Olá\")\n",
    "editor.escrever(\"Mundo\")\n",
    "editor.escrever(\"dsaodosia\")\n",
    "editor.escrever(\"padkowpkdosa\")\n",
    "print(editor.mostrar_texto())"
   ]
  },
  {
   "cell_type": "code",
   "execution_count": 32,
   "id": "c28c8606",
   "metadata": {},
   "outputs": [],
   "source": [
    "editor.desfazer()"
   ]
  },
  {
   "cell_type": "code",
   "execution_count": 35,
   "id": "c6e9f1a3",
   "metadata": {},
   "outputs": [],
   "source": [
    "editor.refazer()"
   ]
  },
  {
   "cell_type": "code",
   "execution_count": 38,
   "id": "c538cd62",
   "metadata": {},
   "outputs": [
    {
     "data": {
      "text/plain": [
       "'Olá Mundo !!'"
      ]
     },
     "execution_count": 38,
     "metadata": {},
     "output_type": "execute_result"
    }
   ],
   "source": [
    "editor.escrever(\"!!\")\n",
    "editor.mostrar_texto()"
   ]
  },
  {
   "cell_type": "code",
   "execution_count": 39,
   "id": "f743bfe1",
   "metadata": {
    "cell_style": "split",
    "scrolled": false
   },
   "outputs": [
    {
     "data": {
      "text/plain": [
       "<Figure size 640x480 with 0 Axes>"
      ]
     },
     "metadata": {},
     "output_type": "display_data"
    },
    {
     "data": {
      "image/png": "[encoded data removed]",
      "text/plain": [
       "<Figure size 640x480 with 1 Axes>"
      ]
     },
     "metadata": {},
     "output_type": "display_data"
    }
   ],
   "source": [
    "editor.pilhaDesfazer.plot_pilha()"
   ]
  },
  {
   "cell_type": "code",
   "execution_count": 40,
   "id": "9be4d818",
   "metadata": {
    "cell_style": "split",
    "scrolled": false
   },
   "outputs": [
    {
     "data": {
      "text/plain": [
       "<Figure size 640x480 with 0 Axes>"
      ]
     },
     "metadata": {},
     "output_type": "display_data"
    },
    {
     "data": {
      "image/png": "[encoded data removed]",
      "text/plain": [
       "<Figure size 640x480 with 1 Axes>"
      ]
     },
     "metadata": {},
     "output_type": "display_data"
    }
   ],
   "source": [
    "editor.pilhaRefazer.plot_pilha()"
   ]
  },
  {
   "cell_type": "code",
   "execution_count": null,
   "id": "7281f290",
   "metadata": {},
   "outputs": [],
   "source": []
  },
  {
   "cell_type": "markdown",
   "id": "60d59a1b",
   "metadata": {},
   "source": [
    "Github: https://github.com/pnferreira"
   ]
  },
  {
   "cell_type": "code",
   "execution_count": null,
   "id": "0955a02c",
   "metadata": {},
   "outputs": [],
   "source": []
  }
 ],
 "metadata": {
  "kernelspec": {
   "display_name": "Python 3 (ipykernel)",
   "language": "python",
   "name": "python3"
  },
  "language_info": {
   "codemirror_mode": {
    "name": "ipython",
    "version": 3
   },
   "file_extension": ".py",
   "mimetype": "text/x-python",
   "name": "python",
   "nbconvert_exporter": "python",
   "pygments_lexer": "ipython3",
   "version": "3.11.4"
  }
 },
 "nbformat": 4,
 "nbformat_minor": 5
}
