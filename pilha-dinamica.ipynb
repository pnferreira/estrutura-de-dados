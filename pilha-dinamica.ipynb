{
 "cells": [
  {
   "cell_type": "markdown",
   "id": "37a7d115",
   "metadata": {},
   "source": [
    "# Pilha Dinâmica\n",
    "\n",
    "Não é necessário determinar o tamanho dela no código, ajustando-se sozinha as modificações do usuário.\n",
    "\n",
    "Em Python, a implementação de pilhas dinâmicas é intuitiva, já que as listas (que já são dinâmicas) podem servir de estrutura base."
   ]
  },
  {
   "cell_type": "code",
   "execution_count": 2,
   "id": "1ded0e73",
   "metadata": {},
   "outputs": [],
   "source": [
    "class PilhaEstatica:\n",
    "    def __init__(self, capacidade):\n",
    "        self.capacidade = capacidade\n",
    "        self.pilha = [None] * capacidade \n",
    "        self.topo = -1 \n",
    "\n",
    "    def push(self, elemento):\n",
    "        if self.isFull():\n",
    "            print(\"Erro: Pilha está cheia\")\n",
    "        else:\n",
    "            self.topo += 1\n",
    "            self.pilha[self.topo] = elemento\n",
    "\n",
    "    def pop(self):\n",
    "        if self.isEmpty():\n",
    "            print(\"Erro: Pilha está vazia\")\n",
    "        else:\n",
    "            elemento = self.pilha[self.topo]\n",
    "            self.pilha[self.topo] = None\n",
    "            self.topo -= 1\n",
    "            return elemento\n",
    "\n",
    "    def top(self):\n",
    "        if self.isEmpty():\n",
    "            print(\"Erro: Pilha está vazia\")\n",
    "        else:\n",
    "            return self.pilha[self.topo]\n",
    "\n",
    "    def isEmpty(self):\n",
    "        return self.topo == -1\n",
    "\n",
    "    def isFull(self):\n",
    "        return self.topo == self.capacidade - 1"
   ]
  },
  {
   "cell_type": "code",
   "execution_count": 3,
   "id": "0450d5a7",
   "metadata": {},
   "outputs": [],
   "source": [
    "pilha = PilhaEstatica(5)\n",
    "pilha.push(3)\n",
    "pilha.push(\"outro elemento\")\n",
    "pilha.push(4)"
   ]
  },
  {
   "cell_type": "code",
   "execution_count": 4,
   "id": "7eeb687f",
   "metadata": {},
   "outputs": [
    {
     "data": {
      "text/plain": [
       "[3, 'outro elemento', 4, None, None]"
      ]
     },
     "execution_count": 4,
     "metadata": {},
     "output_type": "execute_result"
    }
   ],
   "source": [
    "pilha.pilha"
   ]
  },
  {
   "cell_type": "code",
   "execution_count": 5,
   "id": "8a429e6c",
   "metadata": {},
   "outputs": [
    {
     "data": {
      "text/plain": [
       "4"
      ]
     },
     "execution_count": 5,
     "metadata": {},
     "output_type": "execute_result"
    }
   ],
   "source": [
    "pilha.pop()"
   ]
  },
  {
   "cell_type": "code",
   "execution_count": 6,
   "id": "b1748ee8",
   "metadata": {},
   "outputs": [
    {
     "data": {
      "text/plain": [
       "[3, 'outro elemento', None, None, None]"
      ]
     },
     "execution_count": 6,
     "metadata": {},
     "output_type": "execute_result"
    }
   ],
   "source": [
    "pilha.pilha"
   ]
  },
  {
   "cell_type": "code",
   "execution_count": 7,
   "id": "020b0c74",
   "metadata": {},
   "outputs": [],
   "source": [
    "pilha.push(5)\n",
    "pilha.push(6)\n",
    "pilha.push(7)"
   ]
  },
  {
   "cell_type": "code",
   "execution_count": 8,
   "id": "7864e4ce",
   "metadata": {},
   "outputs": [
    {
     "data": {
      "text/plain": [
       "[3, 'outro elemento', 5, 6, 7]"
      ]
     },
     "execution_count": 8,
     "metadata": {},
     "output_type": "execute_result"
    }
   ],
   "source": [
    "pilha.pilha"
   ]
  },
  {
   "cell_type": "code",
   "execution_count": 9,
   "id": "cd8a6e12",
   "metadata": {},
   "outputs": [
    {
     "name": "stdout",
     "output_type": "stream",
     "text": [
      "Erro: Pilha está cheia\n"
     ]
    }
   ],
   "source": [
    "pilha.push(\"elemento extra\")"
   ]
  },
  {
   "cell_type": "code",
   "execution_count": 10,
   "id": "7186253c",
   "metadata": {},
   "outputs": [
    {
     "data": {
      "text/plain": [
       "[3, 'outro elemento', 5, 6, 7]"
      ]
     },
     "execution_count": 10,
     "metadata": {},
     "output_type": "execute_result"
    }
   ],
   "source": [
    "pilha.pilha"
   ]
  },
  {
   "cell_type": "code",
   "execution_count": 11,
   "id": "504bb3be",
   "metadata": {},
   "outputs": [],
   "source": [
    "class PilhaDinamica:\n",
    "    def __init__(self):\n",
    "        self.pilha = []\n",
    "\n",
    "    def push(self, elemento):\n",
    "        self.pilha.append(elemento)\n",
    "\n",
    "    def pop(self):\n",
    "        if self.isEmpty():\n",
    "            print(\"Erro: Pilha está vazia\")\n",
    "        else:\n",
    "            elemento = self.pilha.pop()\n",
    "            return elemento\n",
    "\n",
    "    def top(self):\n",
    "        if self.isEmpty():\n",
    "            print(\"Erro: Pilha está vazia\")\n",
    "        else:\n",
    "            return self.pilha[-1]\n",
    "\n",
    "    def isEmpty(self):\n",
    "        return len(self.pilha) == 0"
   ]
  },
  {
   "cell_type": "code",
   "execution_count": 13,
   "id": "2a79c573",
   "metadata": {},
   "outputs": [],
   "source": [
    "pilha = PilhaDinamica()\n",
    "pilha.push(3)\n",
    "pilha.push(\"outro elemento\")\n",
    "pilha.push(4)"
   ]
  },
  {
   "cell_type": "code",
   "execution_count": 14,
   "id": "ba54721c",
   "metadata": {},
   "outputs": [
    {
     "data": {
      "text/plain": [
       "[3, 'outro elemento', 4]"
      ]
     },
     "execution_count": 14,
     "metadata": {},
     "output_type": "execute_result"
    }
   ],
   "source": [
    "pilha.pilha"
   ]
  },
  {
   "cell_type": "code",
   "execution_count": 15,
   "id": "c33a4ba7",
   "metadata": {},
   "outputs": [
    {
     "data": {
      "text/plain": [
       "4"
      ]
     },
     "execution_count": 15,
     "metadata": {},
     "output_type": "execute_result"
    }
   ],
   "source": [
    "pilha.pop()"
   ]
  },
  {
   "cell_type": "code",
   "execution_count": 16,
   "id": "d7af86e4",
   "metadata": {},
   "outputs": [
    {
     "data": {
      "text/plain": [
       "[3, 'outro elemento']"
      ]
     },
     "execution_count": 16,
     "metadata": {},
     "output_type": "execute_result"
    }
   ],
   "source": [
    "pilha.pilha"
   ]
  },
  {
   "cell_type": "code",
   "execution_count": 17,
   "id": "7e56f891",
   "metadata": {},
   "outputs": [
    {
     "data": {
      "text/plain": [
       "[3, 'outro elemento', 5, 6, 7]"
      ]
     },
     "execution_count": 17,
     "metadata": {},
     "output_type": "execute_result"
    }
   ],
   "source": [
    "pilha.push(5)\n",
    "pilha.push(6)\n",
    "pilha.push(7)\n",
    "pilha.pilha"
   ]
  },
  {
   "cell_type": "code",
   "execution_count": 18,
   "id": "4f68e0f5",
   "metadata": {},
   "outputs": [],
   "source": [
    "pilha.push(\"elemento extra\")"
   ]
  },
  {
   "cell_type": "code",
   "execution_count": 19,
   "id": "bc017b78",
   "metadata": {},
   "outputs": [
    {
     "data": {
      "text/plain": [
       "[3, 'outro elemento', 5, 6, 7, 'elemento extra']"
      ]
     },
     "execution_count": 19,
     "metadata": {},
     "output_type": "execute_result"
    }
   ],
   "source": [
    "pilha.pilha"
   ]
  },
  {
   "cell_type": "markdown",
   "id": "83073e1c",
   "metadata": {},
   "source": [
    "Github: https://github.com/pnferreira"
   ]
  },
  {
   "cell_type": "code",
   "execution_count": null,
   "id": "2fc91eb8",
   "metadata": {},
   "outputs": [],
   "source": []
  }
 ],
 "metadata": {
  "kernelspec": {
   "display_name": "Python 3 (ipykernel)",
   "language": "python",
   "name": "python3"
  },
  "language_info": {
   "codemirror_mode": {
    "name": "ipython",
    "version": 3
   },
   "file_extension": ".py",
   "mimetype": "text/x-python",
   "name": "python",
   "nbconvert_exporter": "python",
   "pygments_lexer": "ipython3",
   "version": "3.11.4"
  }
 },
 "nbformat": 4,
 "nbformat_minor": 5
}
