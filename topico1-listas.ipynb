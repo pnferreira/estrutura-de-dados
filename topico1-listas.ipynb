{
 "cells": [
  {
   "cell_type": "markdown",
   "id": "db1683bb",
   "metadata": {},
   "source": [
    "# Listas"
   ]
  },
  {
   "cell_type": "markdown",
   "id": "46d0d3dc",
   "metadata": {},
   "source": [
    "## O que são listas?"
   ]
  },
  {
   "cell_type": "markdown",
   "id": "ddecc97a",
   "metadata": {},
   "source": [
    "<img src = https://img.freepik.com/vetores-gratis/colecao-de-rotulos-de-notebook-desenhados-a-mao_23-2149867972.jpg width = \"200\" >\n",
    "\n",
    "Fonte: https://img.freepik.com/vetores-gratis/colecao-de-rotulos-de-notebook-desenhados-a-mao_23-2149867972.jpg"
   ]
  },
  {
   "cell_type": "markdown",
   "id": "a95069b8",
   "metadata": {},
   "source": [
    "## Listas em Python\n",
    "\n",
    "1. Listas e variáveis\n",
    "2. Declaração de listas\n",
    "3. Índices"
   ]
  },
  {
   "cell_type": "code",
   "execution_count": 85,
   "id": "e2d26f25",
   "metadata": {},
   "outputs": [
    {
     "name": "stdout",
     "output_type": "stream",
     "text": [
      "[20, 21, 19, 27]\n",
      "21\n"
     ]
    }
   ],
   "source": [
    "idade1 = 20\n",
    "idade2 = 21\n",
    "idade3 = 19\n",
    "idade4 = 27\n",
    "\n",
    "idades = [20, 21, 19, 27]\n",
    "print(idades)\n",
    "\n",
    "print(idades[1])"
   ]
  },
  {
   "cell_type": "markdown",
   "id": "2f17994e",
   "metadata": {},
   "source": [
    "## Manipulando uma lista\n",
    "\n",
    "### Comandos básicos\n",
    "1. Ler item\n",
    "2. Adicionar item\n",
    "3. Remover item\n",
    "4. Alterando item\n",
    "5. Concatenar listas\n",
    "\n",
    "### Comandos avançados\n",
    "1. Revertendo a lista\n",
    "2. Ordenando a lista\n",
    "3. Operações matemáticas com listas"
   ]
  },
  {
   "cell_type": "code",
   "execution_count": 110,
   "id": "4cfa2a79",
   "metadata": {},
   "outputs": [
    {
     "name": "stdout",
     "output_type": "stream",
     "text": [
      "[20, 21, 19, 27, 18]\n",
      "[20, 21, 27, 18]\n",
      "[21, 27, 18]\n",
      "[21, 27, 19]\n",
      "[21, 27, 19, 20, 34, 23]\n"
     ]
    }
   ],
   "source": [
    "idades = [20, 21, 19, 27]\n",
    "\n",
    "# ler\n",
    "idades[0]\n",
    "idades[1:3]\n",
    "idades[-1]\n",
    "\n",
    "# adicionar\n",
    "idades.append(18)\n",
    "print(idades)\n",
    "\n",
    "# remover\n",
    "idades.remove(19)\n",
    "print(idades)\n",
    "\n",
    "# remover por índice\n",
    "idades.pop(0)\n",
    "print(idades)\n",
    "\n",
    "# alterar\n",
    "idades[-1] += 1\n",
    "print(idades)\n",
    "\n",
    "# concatenando listas (juntas)\n",
    "idades2 = [20, 34, 23]\n",
    "\n",
    "idades_juntas = idades + idades2\n",
    "print(idades_juntas)"
   ]
  },
  {
   "cell_type": "code",
   "execution_count": 111,
   "id": "5777f844",
   "metadata": {},
   "outputs": [
    {
     "name": "stdout",
     "output_type": "stream",
     "text": [
      "[23, 34, 20, 19, 27, 21]\n",
      "[34, 27, 23, 21, 20, 19]\n"
     ]
    }
   ],
   "source": [
    "idades_juntas.reverse()\n",
    "print(idades_juntas)\n",
    "\n",
    "idades_juntas.sort(reverse=True)\n",
    "print(idades_juntas)"
   ]
  },
  {
   "cell_type": "code",
   "execution_count": 119,
   "id": "8e9a4c7e",
   "metadata": {},
   "outputs": [
    {
     "data": {
      "text/plain": [
       "144"
      ]
     },
     "execution_count": 119,
     "metadata": {},
     "output_type": "execute_result"
    }
   ],
   "source": [
    "import numpy as np\n",
    "\n",
    "np.mean(idades_juntas)\n",
    "np.min(idades_juntas)\n",
    "np.max(idades_juntas)\n",
    "np.median(idades_juntas)\n",
    "np.sum(idades_juntas)"
   ]
  },
  {
   "cell_type": "markdown",
   "id": "d572b1a6",
   "metadata": {
    "cell_style": "center"
   },
   "source": [
    "Github: https://github.com/pnferreira"
   ]
  }
 ],
 "metadata": {
  "kernelspec": {
   "display_name": "Python 3 (ipykernel)",
   "language": "python",
   "name": "python3"
  },
  "language_info": {
   "codemirror_mode": {
    "name": "ipython",
    "version": 3
   },
   "file_extension": ".py",
   "mimetype": "text/x-python",
   "name": "python",
   "nbconvert_exporter": "python",
   "pygments_lexer": "ipython3",
   "version": "3.11.4"
  }
 },
 "nbformat": 4,
 "nbformat_minor": 5
}
